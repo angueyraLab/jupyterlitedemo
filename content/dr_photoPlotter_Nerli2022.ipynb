{
  "cells": [
    {
      "cell_type": "markdown",
      "metadata": {},
      "source": [
        "# Explore RNAseq of FAC Sorted retinal cells from 42hpf zebrafish\n",
        "### [Nerli, Rocha-Martins, Norden, 2022](https://www.ncbi.nlm.nih.gov/geo/query/acc.cgi?acc=GSE194158)"
      ]
    },
    {
      "cell_type": "markdown",
      "metadata": {},
      "source": [
        "This notebook can be accessed here:  \n",
        "[angueyraLab.github.io/drRNAseq/lab](angueyraLab.github.io/drRNAseq/lab)  \n",
        "\n",
        "## Norden Lab dataset available at:  \n",
        "https://www.ncbi.nlm.nih.gov/geo/query/acc.cgi?acc=GSE194158\n",
        "\n",
        "From the authors\n",
        "> \"This dataset was acquired to identify the gene expression profile of developing retinal cell types at 42 hours post fertilization (hpf): retinal ganglion cells, photoreceptors, inhibitory neurons (amacrine cells and horizontal cells) and progenitor cells.  \n",
        "> Retinal cell types were sorted from dissociated zebrafish retinas at 42 hpf using the triple transgenic line Tg(ath5:gap-RFP), Tg(crx:gap-CFP), Tg(ptf1a:gal4,UAS:gap-YFP). For each of the 5 replicates, 25 retinas were pooled\"\n",
        "\n",
        "## Instructions to explore dataset:  \n",
        "https://github.com/angueyraLab/drRNAseq\n",
        "\n",
        "----\n",
        "----"
      ]
    },
    {
      "cell_type": "markdown",
      "metadata": {
        "tags": []
      },
      "source": [
        "### How to use the notebook\n",
        "- To explore the datasets, you will need to run the code in the cells below.  \n",
        "- To run a cell, you need to click unto it to select it and press \"Ctrl\"+\"Enter\" or the small *play* symbol in the navigation bar on top of this notebook.  \n",
        "- Cells that are currently running display [\\*] on the left.  \n",
        "- Cells that have finished running will display a number instead (e.g.[8])\n",
        "---\n",
        "---\n",
        "#### Saving plots:\n",
        "- Right click on the image and click on \"Create New View for Output\"\n",
        "- Right click on image in Output View panel and click on \"Save As...\""
      ]
    },
    {
      "cell_type": "markdown",
      "metadata": {},
      "source": [
        "#### First: load python environment"
      ]
    },
    {
      "cell_type": "code",
      "execution_count": null,
      "metadata": {
        "trusted": true
      },
      "outputs": [],
      "source": [
        "import pyodide_kernel\n",
        "print(\"Successfully loaded pyolite version {0}\".format(pyodide_kernel.__version__))\n",
        "\n",
        "%pip install -q ipywidgets"
      ]
    },
    {
      "cell_type": "markdown",
      "metadata": {},
      "source": [
        "#### Second: load all necessary extensions (this may take a few minutes...)"
      ]
    },
    {
      "cell_type": "code",
      "execution_count": null,
      "metadata": {
        "trusted": true
      },
      "outputs": [],
      "source": [
        "print(\"Loading extensions...\")\n",
        "import numpy as np\n",
        "import pandas as pd\n",
        "import matplotlib.pyplot as plt\n",
        "import matplotlib.font_manager as font_manager\n",
        "from scipy.stats import zscore\n",
        "import os\n",
        "import pyodide\n",
        "import piplite\n",
        "\n",
        "import ipywidgets\n",
        "pBGMenu = ipywidgets.Dropdown(options=['Light', 'Dark'],value='Dark',disabled=False, layout=ipywidgets.Layout(width='20%', height='40px'))\n",
        "pBGLabel = ipywidgets.widgets.Label('Select plotting style', layout=ipywidgets.Layout(width='20%', height='30px'))\n",
        "pBG = ipywidgets.widgets.VBox([pBGLabel,pBGMenu])\n",
        "heatmapNorm = ipywidgets.Checkbox(value=False, description='Heatmap normalization', disabled=False)\n",
        "\n",
        "# Load plotting function\n",
        "URL = 'https://raw.githubusercontent.com/angueyraLab/drRNAseq/main/content/juanPlot-0a3-py2.py3-none-any.whl'\n",
        "await piplite.install(URL)\n",
        "from juanPlot import *\n",
        "print(\"Successfully loaded extensions!\")\n",
        "\n",
        "\n",
        "# load datasets\n",
        "print(\"Loading datasets...\")\n",
        "zfN = pd.read_csv('./data/Nerli2022_42hpfRet.csv')\n",
        "print(\"\\t Nerli et al. (2022)\")\n",
        "\n",
        "\n",
        "print(\"Successfully loaded dataset(s)!\\n\\n\")\n",
        "\n",
        "# Display selector for plotting background:\n",
        "pBG"
      ]
    },
    {
      "cell_type": "markdown",
      "metadata": {},
      "source": [
        "#### Define some plotting bases and colors"
      ]
    },
    {
      "cell_type": "code",
      "execution_count": null,
      "metadata": {
        "trusted": true
      },
      "outputs": [],
      "source": [
        "# photoreceptor Colors\n",
        "pC_42hpf = {\n",
        "    'RPC' : '#DADADA', # Retinal progenitor cell\n",
        "    'PR' : '#dcc360', # Photoreceptor cell (developing)\n",
        "    'HC_AC' : '#3DF591', # Horizontal and Amacrine cell (developing)\n",
        "    'RGC' : '#F53D59', # Retinal Ganglion cell (developing)\n",
        "}\n",
        "\n",
        "# default parameters for plotting\n",
        "if pBGMenu.value=='Dark':\n",
        "    # dark background\n",
        "    plt.style.use('dark_background')\n",
        "    params = {\"ytick.color\" : \"w\", \"xtick.color\" : \"w\",\n",
        "              \"axes.labelcolor\" : \"w\", \"axes.edgecolor\" : \"w\",\n",
        "              \"axes.linewidth\" : 3,\n",
        "              \"xtick.major.width\" : 3, \"ytick.major.width\" : 3,\n",
        "              \"xtick.minor.width\" : 3, \"ytick.minor.width\" : 3,\n",
        "              \"xtick.major.size\" : 8, \"ytick.major.size\" : 8,\n",
        "              \"xtick.minor.size\" : 8, \"ytick.minor.size\" : 8,\n",
        "              \"text.color\" : \"w\"}\n",
        "    plt.rcParams.update(params)\n",
        "    baseColor = '#ffffff' #white\n",
        "else:\n",
        "    # white background\n",
        "    plt.style.use('default')\n",
        "    params = {\"ytick.color\" : \"k\", \"xtick.color\" : \"k\",\n",
        "              \"axes.labelcolor\" : \"k\", \"axes.edgecolor\" : \"k\",\n",
        "              \"axes.linewidth\" : 3,\n",
        "              \"xtick.major.width\" : 3, \"ytick.major.width\" : 3,\n",
        "              \"xtick.minor.width\" : 3, \"ytick.minor.width\" : 3,\n",
        "              \"xtick.major.size\" : 8, \"ytick.major.size\" : 8,\n",
        "              \"xtick.minor.size\" : 8, \"ytick.minor.size\" : 8,\n",
        "              \"text.color\" : \"k\"}\n",
        "    plt.rcParams.update(params)\n",
        "    baseColor = '#000000' #black\n",
        "    \n",
        "\n",
        "\n",
        "print(\"Plotting style is: {0}\".format(pBGMenu.value))"
      ]
    },
    {
      "cell_type": "markdown",
      "metadata": {},
      "source": [
        "***\n",
        "# Index <a id='Index'></a>\n",
        "- [Bar plot for single gene: Nerli et al. (2022)](#barPlot42hpf)\n",
        "- [Heatmap for gene family: Nerli et al. (2022)](#heatMap42hpf)"
      ]
    },
    {
      "cell_type": "markdown",
      "metadata": {},
      "source": [
        "***\n",
        "## Bar plot for single gene: provide gene symbol (e.g. '_tbx2a_')<a id='barPlot42hpf'></a>\n",
        "***\n",
        "[Back to Index](#Index)"
      ]
    },
    {
      "cell_type": "code",
      "execution_count": null,
      "metadata": {
        "trusted": true
      },
      "outputs": [],
      "source": [
        "geneSymbol = 'tbx2b' # replace geneSymbol here and rerun cell to replot\n",
        "\n",
        "barData = zfN[zfN['symbol']==geneSymbol] #get data (should add a check here with isin)\n",
        "fH, axH = plt.subplots(figsize=(8,6))\n",
        "pH = plotBars_Nerli2022(barData, geneSymbol, ax=axH, pC=pC_42hpf)\n",
        "plt.subplots_adjust(left=0.15, right=.95, top=0.90, bottom=0.1)\n",
        "plt.tight_layout()\n",
        "plt.show()"
      ]
    },
    {
      "cell_type": "markdown",
      "metadata": {},
      "source": [
        "***\n",
        "## HeatMap for gene family: provide gene symbol prefix (e.g. '_opn1_')<a id='heatMap'></a>\n",
        "> retrieves all genes whose symbol starts with defined geneSymbol  \n",
        "***\n",
        "\n",
        "[Back to Index](#Index)"
      ]
    },
    {
      "cell_type": "code",
      "execution_count": null,
      "metadata": {
        "trusted": true
      },
      "outputs": [],
      "source": [
        "# display option for heatmap normalization\n",
        "heatmapNorm"
      ]
    },
    {
      "cell_type": "code",
      "execution_count": null,
      "metadata": {
        "trusted": true
      },
      "outputs": [],
      "source": [
        "geneSymbol='meis' # replace geneSymbol here and rerun cell to replot\n",
        "\n",
        "heatmapDataN = zfN[zfN['symbol'].str.startswith(geneSymbol)]\n",
        "heatmapDataN = heatmapDataN.sort_values(by=[\"symbol\"])\n",
        "fH, axH = plt.subplots(figsize=(20,(0.5*heatmapDataN.shape[0])+5))\n",
        "hmH, cbH = heatmap_Nerli2022(heatmapDataN, pC = pC_42hpf, norm=heatmapNorm.value)\n",
        "plt.tight_layout()\n",
        "plt.show()"
      ]
    },
    {
      "cell_type": "markdown",
      "metadata": {},
      "source": [
        "***\n",
        "## HeatMap for gene list: provide gene symbols separated by \"|\" (e.g. '_tbx2a_|_tbx2b_|_foxq2_')<a id='heatMapList'></a>\n",
        "> retrieves all genes in list and creates heatmap  \n",
        "***\n",
        "\n",
        "[Back to Index](#Index)"
      ]
    },
    {
      "cell_type": "code",
      "execution_count": null,
      "metadata": {
        "trusted": true
      },
      "outputs": [],
      "source": [
        "# display option for heatmap normalization\n",
        "heatmapNorm"
      ]
    },
    {
      "cell_type": "code",
      "execution_count": null,
      "metadata": {
        "trusted": true
      },
      "outputs": [],
      "source": [
        "geneSymbol='tbx2a|tbx2b|foxq2' # replace geneSymbol here and rerun cell to replot\n",
        "\n",
        "heatmapDataN = zfN[zfN['symbol'].str.contains(geneSymbol)]\n",
        "heatmapDataN = heatmapDataN.sort_values(by=[\"symbol\"])\n",
        "fH, axH = plt.subplots(figsize=(20,(0.5*heatmapDataN.shape[0])+5))\n",
        "hmH, cbH = heatmap_Nerli2022(heatmapDataN, pC = pC_42hpf, norm=heatmapNorm.value)\n",
        "plt.tight_layout()\n",
        "plt.show()"
      ]
    }
  ],
  "metadata": {
    "kernelspec": {
      "display_name": "Pyolite",
      "language": "python",
      "name": "python"
    },
    "language_info": {
      "codemirror_mode": {
        "name": "python",
        "version": 3
      },
      "file_extension": ".py",
      "mimetype": "text/x-python",
      "name": "python",
      "nbconvert_exporter": "python",
      "pygments_lexer": "ipython3",
      "version": "3.8"
    }
  },
  "nbformat": 4,
  "nbformat_minor": 4
}
